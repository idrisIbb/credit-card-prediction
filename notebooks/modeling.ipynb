{
 "cells": [
  {
   "cell_type": "markdown",
   "metadata": {},
   "source": [
    "We will be using Random Forest in our Model Creation due to the presence of outliers. Random Forest is robust towards outliers. "
   ]
  },
  {
   "cell_type": "code",
   "execution_count": 1,
   "metadata": {},
   "outputs": [],
   "source": [
    "import pandas as pd\n",
    "import numpy as np\n",
    "\n",
    "df = pd.read_csv('../data/creditcard.csv')"
   ]
  },
  {
   "cell_type": "markdown",
   "metadata": {},
   "source": [
    "Feature Selection"
   ]
  },
  {
   "cell_type": "code",
   "execution_count": 2,
   "metadata": {},
   "outputs": [],
   "source": [
    "# Based on feature importance analyzed in data file\n",
    "df_imp = df[['V17', 'V12', 'V14', 'V10', 'V16', 'V11', 'V9', 'V7', 'V18', 'V4', 'Class']]"
   ]
  },
  {
   "cell_type": "code",
   "execution_count": 3,
   "metadata": {},
   "outputs": [
    {
     "data": {
      "text/html": [
       "<div>\n",
       "<style scoped>\n",
       "    .dataframe tbody tr th:only-of-type {\n",
       "        vertical-align: middle;\n",
       "    }\n",
       "\n",
       "    .dataframe tbody tr th {\n",
       "        vertical-align: top;\n",
       "    }\n",
       "\n",
       "    .dataframe thead th {\n",
       "        text-align: right;\n",
       "    }\n",
       "</style>\n",
       "<table border=\"1\" class=\"dataframe\">\n",
       "  <thead>\n",
       "    <tr style=\"text-align: right;\">\n",
       "      <th></th>\n",
       "      <th>V17</th>\n",
       "      <th>V12</th>\n",
       "      <th>V14</th>\n",
       "      <th>V10</th>\n",
       "      <th>V16</th>\n",
       "      <th>V11</th>\n",
       "      <th>V9</th>\n",
       "      <th>V7</th>\n",
       "      <th>V18</th>\n",
       "      <th>V4</th>\n",
       "      <th>Class</th>\n",
       "    </tr>\n",
       "  </thead>\n",
       "  <tbody>\n",
       "    <tr>\n",
       "      <th>count</th>\n",
       "      <td>2.848070e+05</td>\n",
       "      <td>2.848070e+05</td>\n",
       "      <td>2.848070e+05</td>\n",
       "      <td>2.848070e+05</td>\n",
       "      <td>2.848070e+05</td>\n",
       "      <td>2.848070e+05</td>\n",
       "      <td>2.848070e+05</td>\n",
       "      <td>2.848070e+05</td>\n",
       "      <td>2.848070e+05</td>\n",
       "      <td>2.848070e+05</td>\n",
       "      <td>284807.000000</td>\n",
       "    </tr>\n",
       "    <tr>\n",
       "      <th>mean</th>\n",
       "      <td>-6.425436e-13</td>\n",
       "      <td>1.053347e-12</td>\n",
       "      <td>-1.474791e-13</td>\n",
       "      <td>7.092545e-13</td>\n",
       "      <td>-2.282250e-13</td>\n",
       "      <td>1.874948e-12</td>\n",
       "      <td>-1.179749e-12</td>\n",
       "      <td>-3.054600e-13</td>\n",
       "      <td>4.950748e-13</td>\n",
       "      <td>8.321385e-13</td>\n",
       "      <td>0.001727</td>\n",
       "    </tr>\n",
       "    <tr>\n",
       "      <th>std</th>\n",
       "      <td>8.493371e-01</td>\n",
       "      <td>9.992014e-01</td>\n",
       "      <td>9.585956e-01</td>\n",
       "      <td>1.088850e+00</td>\n",
       "      <td>8.762529e-01</td>\n",
       "      <td>1.020713e+00</td>\n",
       "      <td>1.098632e+00</td>\n",
       "      <td>1.237094e+00</td>\n",
       "      <td>8.381762e-01</td>\n",
       "      <td>1.415869e+00</td>\n",
       "      <td>0.041527</td>\n",
       "    </tr>\n",
       "    <tr>\n",
       "      <th>min</th>\n",
       "      <td>-2.516280e+01</td>\n",
       "      <td>-1.868371e+01</td>\n",
       "      <td>-1.921433e+01</td>\n",
       "      <td>-2.458826e+01</td>\n",
       "      <td>-1.412985e+01</td>\n",
       "      <td>-4.797473e+00</td>\n",
       "      <td>-1.343407e+01</td>\n",
       "      <td>-4.355724e+01</td>\n",
       "      <td>-9.498746e+00</td>\n",
       "      <td>-5.683171e+00</td>\n",
       "      <td>0.000000</td>\n",
       "    </tr>\n",
       "    <tr>\n",
       "      <th>25%</th>\n",
       "      <td>-4.837483e-01</td>\n",
       "      <td>-4.055715e-01</td>\n",
       "      <td>-4.255740e-01</td>\n",
       "      <td>-5.354257e-01</td>\n",
       "      <td>-4.680368e-01</td>\n",
       "      <td>-7.624942e-01</td>\n",
       "      <td>-6.430976e-01</td>\n",
       "      <td>-5.540759e-01</td>\n",
       "      <td>-4.988498e-01</td>\n",
       "      <td>-8.486401e-01</td>\n",
       "      <td>0.000000</td>\n",
       "    </tr>\n",
       "    <tr>\n",
       "      <th>50%</th>\n",
       "      <td>-6.567575e-02</td>\n",
       "      <td>1.400326e-01</td>\n",
       "      <td>5.060132e-02</td>\n",
       "      <td>-9.291738e-02</td>\n",
       "      <td>6.641332e-02</td>\n",
       "      <td>-3.275735e-02</td>\n",
       "      <td>-5.142873e-02</td>\n",
       "      <td>4.010308e-02</td>\n",
       "      <td>-3.636312e-03</td>\n",
       "      <td>-1.984653e-02</td>\n",
       "      <td>0.000000</td>\n",
       "    </tr>\n",
       "    <tr>\n",
       "      <th>75%</th>\n",
       "      <td>3.996750e-01</td>\n",
       "      <td>6.182380e-01</td>\n",
       "      <td>4.931498e-01</td>\n",
       "      <td>4.539234e-01</td>\n",
       "      <td>5.232963e-01</td>\n",
       "      <td>7.395934e-01</td>\n",
       "      <td>5.971390e-01</td>\n",
       "      <td>5.704361e-01</td>\n",
       "      <td>5.008067e-01</td>\n",
       "      <td>7.433413e-01</td>\n",
       "      <td>0.000000</td>\n",
       "    </tr>\n",
       "    <tr>\n",
       "      <th>max</th>\n",
       "      <td>9.253526e+00</td>\n",
       "      <td>7.848392e+00</td>\n",
       "      <td>1.052677e+01</td>\n",
       "      <td>2.374514e+01</td>\n",
       "      <td>1.731511e+01</td>\n",
       "      <td>1.201891e+01</td>\n",
       "      <td>1.559499e+01</td>\n",
       "      <td>1.205895e+02</td>\n",
       "      <td>5.041069e+00</td>\n",
       "      <td>1.687534e+01</td>\n",
       "      <td>1.000000</td>\n",
       "    </tr>\n",
       "  </tbody>\n",
       "</table>\n",
       "</div>"
      ],
      "text/plain": [
       "                V17           V12           V14           V10           V16  \\\n",
       "count  2.848070e+05  2.848070e+05  2.848070e+05  2.848070e+05  2.848070e+05   \n",
       "mean  -6.425436e-13  1.053347e-12 -1.474791e-13  7.092545e-13 -2.282250e-13   \n",
       "std    8.493371e-01  9.992014e-01  9.585956e-01  1.088850e+00  8.762529e-01   \n",
       "min   -2.516280e+01 -1.868371e+01 -1.921433e+01 -2.458826e+01 -1.412985e+01   \n",
       "25%   -4.837483e-01 -4.055715e-01 -4.255740e-01 -5.354257e-01 -4.680368e-01   \n",
       "50%   -6.567575e-02  1.400326e-01  5.060132e-02 -9.291738e-02  6.641332e-02   \n",
       "75%    3.996750e-01  6.182380e-01  4.931498e-01  4.539234e-01  5.232963e-01   \n",
       "max    9.253526e+00  7.848392e+00  1.052677e+01  2.374514e+01  1.731511e+01   \n",
       "\n",
       "                V11            V9            V7           V18            V4  \\\n",
       "count  2.848070e+05  2.848070e+05  2.848070e+05  2.848070e+05  2.848070e+05   \n",
       "mean   1.874948e-12 -1.179749e-12 -3.054600e-13  4.950748e-13  8.321385e-13   \n",
       "std    1.020713e+00  1.098632e+00  1.237094e+00  8.381762e-01  1.415869e+00   \n",
       "min   -4.797473e+00 -1.343407e+01 -4.355724e+01 -9.498746e+00 -5.683171e+00   \n",
       "25%   -7.624942e-01 -6.430976e-01 -5.540759e-01 -4.988498e-01 -8.486401e-01   \n",
       "50%   -3.275735e-02 -5.142873e-02  4.010308e-02 -3.636312e-03 -1.984653e-02   \n",
       "75%    7.395934e-01  5.971390e-01  5.704361e-01  5.008067e-01  7.433413e-01   \n",
       "max    1.201891e+01  1.559499e+01  1.205895e+02  5.041069e+00  1.687534e+01   \n",
       "\n",
       "               Class  \n",
       "count  284807.000000  \n",
       "mean        0.001727  \n",
       "std         0.041527  \n",
       "min         0.000000  \n",
       "25%         0.000000  \n",
       "50%         0.000000  \n",
       "75%         0.000000  \n",
       "max         1.000000  "
      ]
     },
     "execution_count": 3,
     "metadata": {},
     "output_type": "execute_result"
    }
   ],
   "source": [
    "df_imp.describe()"
   ]
  },
  {
   "cell_type": "code",
   "execution_count": 4,
   "metadata": {},
   "outputs": [
    {
     "data": {
      "image/png": "[encoded data removed]",
      "text/plain": [
       "<Figure size 1000x800 with 2 Axes>"
      ]
     },
     "metadata": {},
     "output_type": "display_data"
    }
   ],
   "source": [
    "# correlation\n",
    "import matplotlib.pyplot as plt\n",
    "import seaborn as sns\n",
    "\n",
    "matrix = df_imp.corr()\n",
    "plt.figure(figsize=(10, 8))  # Set the figure size (width, height)\n",
    "sns.heatmap(matrix, annot=False, cmap='coolwarm', center=0, square=True, linewidths=0.5, cbar_kws={\"shrink\": 0.75})\n",
    "plt.show()"
   ]
  },
  {
   "cell_type": "markdown",
   "metadata": {},
   "source": [
    "### Model Creation"
   ]
  },
  {
   "cell_type": "markdown",
   "metadata": {},
   "source": [
    "Scaling data"
   ]
  },
  {
   "cell_type": "code",
   "execution_count": 8,
   "metadata": {},
   "outputs": [
    {
     "name": "stdout",
     "output_type": "stream",
     "text": [
      "             V17       V12       V14       V10       V16       V11        V9  \\\n",
      "0       0.737173  0.680908  0.635591  0.510600  0.434392  0.252484  0.475312   \n",
      "1       0.727794  0.744342  0.641219  0.505267  0.464105  0.381188  0.453981   \n",
      "2       0.763381  0.706683  0.640473  0.513018  0.357443  0.322422  0.410603   \n",
      "3       0.711253  0.710910  0.636372  0.507585  0.415653  0.271817  0.414999   \n",
      "4       0.724243  0.724477  0.608406  0.524303  0.434995  0.236355  0.490950   \n",
      "...          ...       ...       ...       ...       ...       ...       ...   \n",
      "284802  0.789000  0.806406  0.801627  0.598850  0.484577  0.190550  0.528729   \n",
      "284803  0.730383  0.738709  0.623352  0.488530  0.426717  0.276355  0.482925   \n",
      "284804  0.740239  0.706572  0.628885  0.498692  0.453827  0.309763  0.477677   \n",
      "284805  0.745946  0.667901  0.661171  0.500464  0.429998  0.170288  0.476287   \n",
      "284806  0.711942  0.703005  0.643218  0.489782  0.439728  0.223414  0.479528   \n",
      "\n",
      "              V7       V18        V4  Class  \n",
      "0       0.266815  0.655066  0.313023    0.0  \n",
      "1       0.264875  0.640681  0.271796    0.0  \n",
      "2       0.270177  0.644945  0.268766    0.0  \n",
      "3       0.266803  0.788492  0.213661    0.0  \n",
      "4       0.268968  0.650665  0.269796    0.0  \n",
      "...          ...       ...       ...    ...  \n",
      "284802  0.235393  0.688412  0.160317    0.0  \n",
      "284803  0.265504  0.569303  0.219189    0.0  \n",
      "284804  0.263547  0.680504  0.227202    0.0  \n",
      "284805  0.261175  0.729908  0.282508    0.0  \n",
      "284806  0.274963  0.664807  0.229488    0.0  \n",
      "\n",
      "[284807 rows x 11 columns]\n"
     ]
    }
   ],
   "source": [
    "from sklearn.preprocessing import MinMaxScaler\n",
    "scaler = MinMaxScaler()\n",
    "\n",
    "df_normalized = pd.DataFrame(scaler.fit_transform(df_imp), columns=df_imp.columns)\n",
    "\n",
    "print(df_normalized)"
   ]
  },
  {
   "cell_type": "code",
   "execution_count": 9,
   "metadata": {},
   "outputs": [
    {
     "data": {
      "text/html": [
       "<div>\n",
       "<style scoped>\n",
       "    .dataframe tbody tr th:only-of-type {\n",
       "        vertical-align: middle;\n",
       "    }\n",
       "\n",
       "    .dataframe tbody tr th {\n",
       "        vertical-align: top;\n",
       "    }\n",
       "\n",
       "    .dataframe thead th {\n",
       "        text-align: right;\n",
       "    }\n",
       "</style>\n",
       "<table border=\"1\" class=\"dataframe\">\n",
       "  <thead>\n",
       "    <tr style=\"text-align: right;\">\n",
       "      <th></th>\n",
       "      <th>V17</th>\n",
       "      <th>V12</th>\n",
       "      <th>V14</th>\n",
       "      <th>V10</th>\n",
       "      <th>V16</th>\n",
       "      <th>V11</th>\n",
       "      <th>V9</th>\n",
       "      <th>V7</th>\n",
       "      <th>V18</th>\n",
       "      <th>V4</th>\n",
       "      <th>Class</th>\n",
       "    </tr>\n",
       "  </thead>\n",
       "  <tbody>\n",
       "    <tr>\n",
       "      <th>count</th>\n",
       "      <td>284807.000000</td>\n",
       "      <td>284807.000000</td>\n",
       "      <td>284807.000000</td>\n",
       "      <td>284807.000000</td>\n",
       "      <td>284807.000000</td>\n",
       "      <td>284807.000000</td>\n",
       "      <td>284807.000000</td>\n",
       "      <td>284807.000000</td>\n",
       "      <td>284807.000000</td>\n",
       "      <td>284807.000000</td>\n",
       "      <td>284807.000000</td>\n",
       "    </tr>\n",
       "    <tr>\n",
       "      <th>mean</th>\n",
       "      <td>0.731130</td>\n",
       "      <td>0.704193</td>\n",
       "      <td>0.646053</td>\n",
       "      <td>0.508722</td>\n",
       "      <td>0.449352</td>\n",
       "      <td>0.285286</td>\n",
       "      <td>0.462780</td>\n",
       "      <td>0.265356</td>\n",
       "      <td>0.653292</td>\n",
       "      <td>0.251930</td>\n",
       "      <td>0.001727</td>\n",
       "    </tr>\n",
       "    <tr>\n",
       "      <th>std</th>\n",
       "      <td>0.024678</td>\n",
       "      <td>0.037660</td>\n",
       "      <td>0.032231</td>\n",
       "      <td>0.022528</td>\n",
       "      <td>0.027866</td>\n",
       "      <td>0.060698</td>\n",
       "      <td>0.037846</td>\n",
       "      <td>0.007537</td>\n",
       "      <td>0.057647</td>\n",
       "      <td>0.062764</td>\n",
       "      <td>0.041527</td>\n",
       "    </tr>\n",
       "    <tr>\n",
       "      <th>min</th>\n",
       "      <td>0.000000</td>\n",
       "      <td>0.000000</td>\n",
       "      <td>0.000000</td>\n",
       "      <td>0.000000</td>\n",
       "      <td>0.000000</td>\n",
       "      <td>0.000000</td>\n",
       "      <td>0.000000</td>\n",
       "      <td>0.000000</td>\n",
       "      <td>0.000000</td>\n",
       "      <td>0.000000</td>\n",
       "      <td>0.000000</td>\n",
       "    </tr>\n",
       "    <tr>\n",
       "      <th>25%</th>\n",
       "      <td>0.717074</td>\n",
       "      <td>0.688907</td>\n",
       "      <td>0.631744</td>\n",
       "      <td>0.497644</td>\n",
       "      <td>0.434468</td>\n",
       "      <td>0.239943</td>\n",
       "      <td>0.440626</td>\n",
       "      <td>0.261980</td>\n",
       "      <td>0.618983</td>\n",
       "      <td>0.214311</td>\n",
       "      <td>0.000000</td>\n",
       "    </tr>\n",
       "    <tr>\n",
       "      <th>50%</th>\n",
       "      <td>0.729221</td>\n",
       "      <td>0.709471</td>\n",
       "      <td>0.647755</td>\n",
       "      <td>0.506800</td>\n",
       "      <td>0.451464</td>\n",
       "      <td>0.283338</td>\n",
       "      <td>0.461008</td>\n",
       "      <td>0.265600</td>\n",
       "      <td>0.653042</td>\n",
       "      <td>0.251050</td>\n",
       "      <td>0.000000</td>\n",
       "    </tr>\n",
       "    <tr>\n",
       "      <th>75%</th>\n",
       "      <td>0.742743</td>\n",
       "      <td>0.727494</td>\n",
       "      <td>0.662635</td>\n",
       "      <td>0.518113</td>\n",
       "      <td>0.465994</td>\n",
       "      <td>0.329266</td>\n",
       "      <td>0.483350</td>\n",
       "      <td>0.268831</td>\n",
       "      <td>0.687736</td>\n",
       "      <td>0.284882</td>\n",
       "      <td>0.000000</td>\n",
       "    </tr>\n",
       "    <tr>\n",
       "      <th>max</th>\n",
       "      <td>1.000000</td>\n",
       "      <td>1.000000</td>\n",
       "      <td>1.000000</td>\n",
       "      <td>1.000000</td>\n",
       "      <td>1.000000</td>\n",
       "      <td>1.000000</td>\n",
       "      <td>1.000000</td>\n",
       "      <td>1.000000</td>\n",
       "      <td>1.000000</td>\n",
       "      <td>1.000000</td>\n",
       "      <td>1.000000</td>\n",
       "    </tr>\n",
       "  </tbody>\n",
       "</table>\n",
       "</div>"
      ],
      "text/plain": [
       "                 V17            V12            V14            V10  \\\n",
       "count  284807.000000  284807.000000  284807.000000  284807.000000   \n",
       "mean        0.731130       0.704193       0.646053       0.508722   \n",
       "std         0.024678       0.037660       0.032231       0.022528   \n",
       "min         0.000000       0.000000       0.000000       0.000000   \n",
       "25%         0.717074       0.688907       0.631744       0.497644   \n",
       "50%         0.729221       0.709471       0.647755       0.506800   \n",
       "75%         0.742743       0.727494       0.662635       0.518113   \n",
       "max         1.000000       1.000000       1.000000       1.000000   \n",
       "\n",
       "                 V16            V11             V9             V7  \\\n",
       "count  284807.000000  284807.000000  284807.000000  284807.000000   \n",
       "mean        0.449352       0.285286       0.462780       0.265356   \n",
       "std         0.027866       0.060698       0.037846       0.007537   \n",
       "min         0.000000       0.000000       0.000000       0.000000   \n",
       "25%         0.434468       0.239943       0.440626       0.261980   \n",
       "50%         0.451464       0.283338       0.461008       0.265600   \n",
       "75%         0.465994       0.329266       0.483350       0.268831   \n",
       "max         1.000000       1.000000       1.000000       1.000000   \n",
       "\n",
       "                 V18             V4          Class  \n",
       "count  284807.000000  284807.000000  284807.000000  \n",
       "mean        0.653292       0.251930       0.001727  \n",
       "std         0.057647       0.062764       0.041527  \n",
       "min         0.000000       0.000000       0.000000  \n",
       "25%         0.618983       0.214311       0.000000  \n",
       "50%         0.653042       0.251050       0.000000  \n",
       "75%         0.687736       0.284882       0.000000  \n",
       "max         1.000000       1.000000       1.000000  "
      ]
     },
     "execution_count": 9,
     "metadata": {},
     "output_type": "execute_result"
    }
   ],
   "source": [
    "df_normalized.describe()"
   ]
  },
  {
   "cell_type": "code",
   "execution_count": 10,
   "metadata": {},
   "outputs": [],
   "source": [
    "X = df_normalized.drop('Class', axis=1)\n",
    "y = df_normalized['Class']"
   ]
  },
  {
   "cell_type": "markdown",
   "metadata": {},
   "source": [
    "Data Split"
   ]
  },
  {
   "cell_type": "code",
   "execution_count": 11,
   "metadata": {},
   "outputs": [],
   "source": [
    "from sklearn.model_selection import train_test_split\n",
    "X_train, X_test, y_train, y_test = train_test_split(X, y, test_size=0.2, random_state=42)"
   ]
  },
  {
   "cell_type": "markdown",
   "metadata": {},
   "source": [
    "Dealing with Imbalanced data"
   ]
  },
  {
   "cell_type": "code",
   "execution_count": 12,
   "metadata": {},
   "outputs": [],
   "source": [
    "from imblearn.combine import SMOTETomek\n",
    "\n",
    "# Create a SMOTE-Tomek Links object\n",
    "smt = SMOTETomek(sampling_strategy='auto')\n",
    "\n",
    "# Fit and resample the data\n",
    "X_resampled, y_resampled = smt.fit_resample(X_train, y_train)"
   ]
  },
  {
   "cell_type": "code",
   "execution_count": 13,
   "metadata": {},
   "outputs": [
    {
     "data": {
      "text/plain": [
       "Class\n",
       "0.0    227451\n",
       "1.0    227451\n",
       "Name: count, dtype: int64"
      ]
     },
     "execution_count": 13,
     "metadata": {},
     "output_type": "execute_result"
    }
   ],
   "source": [
    "y_resampled.value_counts()"
   ]
  },
  {
   "cell_type": "markdown",
   "metadata": {},
   "source": [
    "Random Forest model"
   ]
  },
  {
   "cell_type": "code",
   "execution_count": 14,
   "metadata": {},
   "outputs": [
    {
     "name": "stdout",
     "output_type": "stream",
     "text": [
      "OOB Score for 5 runs with 5000 samples each is 0.9793799999999999\n"
     ]
    }
   ],
   "source": [
    "from sklearn.ensemble import RandomForestClassifier\n",
    "from sklearn.utils import resample\n",
    "oob_scores = []\n",
    "\n",
    "clf = RandomForestClassifier(oob_score=True)\n",
    "for _ in range(10):\n",
    "    # Sample 5000 records with replacement using scikit-learn's resample\n",
    "    X_train, y_train = resample(X_resampled, y_resampled, replace=True, n_samples=5000)\n",
    "\n",
    "    # Train the classifier on the sampled data\n",
    "    clf.fit(X_train, y_train)\n",
    "\n",
    "    # Append the OOB score\n",
    "    oob_scores.append(clf.oob_score_)\n",
    "\n",
    "print(f\"OOB Score for 5 runs with 5000 samples each is {np.mean(oob_scores)}\")"
   ]
  },
  {
   "cell_type": "markdown",
   "metadata": {},
   "source": [
    "Training and Evaluating Model"
   ]
  },
  {
   "cell_type": "code",
   "execution_count": 15,
   "metadata": {},
   "outputs": [
    {
     "name": "stdout",
     "output_type": "stream",
     "text": [
      "acc: 0.9993\n",
      "f1_score: 0.8137\n",
      "recall score: 0.8469\n",
      "precision score: 0.7830\n"
     ]
    }
   ],
   "source": [
    "from sklearn.metrics import accuracy_score, f1_score, recall_score, precision_score\n",
    "clf = RandomForestClassifier()\n",
    "clf.fit(X_resampled, y_resampled)\n",
    "\n",
    "y_pred = clf.predict(X_test)\n",
    "\n",
    "acc = accuracy_score(y_test, y_pred)\n",
    "print(f\"acc: {acc:.4f}\")\n",
    "\n",
    "f1_score = f1_score(y_test, y_pred)\n",
    "print(f\"f1_score: {f1_score:.4f}\")\n",
    "\n",
    "recall_score = recall_score(y_test, y_pred)\n",
    "print(f\"recall score: {recall_score:.4f}\")\n",
    "\n",
    "precision_score = precision_score(y_test, y_pred)\n",
    "print(f\"precision score: {precision_score:.4f}\")"
   ]
  },
  {
   "cell_type": "markdown",
   "metadata": {},
   "source": [
    "### Creating Pickle File"
   ]
  },
  {
   "cell_type": "code",
   "execution_count": 21,
   "metadata": {},
   "outputs": [],
   "source": [
    "import os\n",
    "import pickle\n",
    "\n",
    "current_dir = os.getcwd()\n",
    "parent_dir = os.path.dirname(current_dir)\n",
    "model_dir = os.path.join(parent_dir, 'models')\n",
    "\n",
    "with open(os.path.join(model_dir, 'model.pkl'), 'wb') as f:\n",
    "    pickle.dump(clf, f)"
   ]
  }
 ],
 "metadata": {
  "kernelspec": {
   "display_name": ".venv",
   "language": "python",
   "name": "python3"
  },
  "language_info": {
   "codemirror_mode": {
    "name": "ipython",
    "version": 3
   },
   "file_extension": ".py",
   "mimetype": "text/x-python",
   "name": "python",
   "nbconvert_exporter": "python",
   "pygments_lexer": "ipython3",
   "version": "3.12.5"
  }
 },
 "nbformat": 4,
 "nbformat_minor": 2
}
